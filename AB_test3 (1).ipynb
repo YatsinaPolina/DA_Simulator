{
 "cells": [
  {
   "cell_type": "code",
   "execution_count": 2,
   "id": "bc90f3ee-3ddc-446b-8899-cb03f32e0abd",
   "metadata": {},
   "outputs": [],
   "source": [
    "import pandas as pd\n",
    "import pandahouse as ph\n",
    "import matplotlib.pyplot as plt\n",
    "import numpy as np\n",
    "import hashlib\n",
    "from scipy import stats\n",
    "import seaborn as sns"
   ]
  },
  {
   "cell_type": "code",
   "execution_count": 3,
   "id": "4c77f741-d00a-4d63-844a-4b2533d15252",
   "metadata": {},
   "outputs": [],
   "source": [
    "connection = {\n",
    "    'host': 'https://clickhouse.lab.karpov.courses',\n",
    "    'password': 'dpo_python_2020',\n",
    "    'user': 'student',\n",
    "    'database': 'simulator_20221020'\n",
    "}\n",
    "\n",
    "q1 = \"\"\"\n",
    "SELECT exp_group, \n",
    "    user_id,\n",
    "    sum(action = 'like') as likes,\n",
    "    sum(action = 'view') as views,\n",
    "    likes/views as ctr\n",
    "FROM {db}.feed_actions \n",
    "WHERE toDate(time) between '2022-10-03' and '2022-10-09'\n",
    "    and exp_group in (0,3)\n",
    "GROUP BY exp_group, user_id\n",
    "\"\"\"\n",
    "q2 = \"\"\"\n",
    "SELECT exp_group, \n",
    "    user_id,\n",
    "    sum(action = 'like') as likes,\n",
    "    sum(action = 'view') as views,\n",
    "    likes/views as ctr\n",
    "FROM {db}.feed_actions \n",
    "WHERE toDate(time) between '2022-10-03' and '2022-10-09'\n",
    "    and exp_group in (2,1)\n",
    "GROUP BY exp_group, user_id\n",
    "\"\"\"\n",
    "\n",
    "df1 = ph.read_clickhouse(q1, connection=connection)\n",
    "df2 = ph.read_clickhouse(q2, connection=connection)\n"
   ]
  },
  {
   "cell_type": "markdown",
   "id": "32547aa3-3bf4-451e-b39f-0bd39e7dda3a",
   "metadata": {},
   "source": [
    "## t-тест для групп 0 и 3 ##"
   ]
  },
  {
   "cell_type": "code",
   "execution_count": 4,
   "id": "8f0f8ff0-ecc4-47ef-90e7-3d07d13efaf2",
   "metadata": {},
   "outputs": [
    {
     "data": {
      "text/plain": [
       "Ttest_indResult(statistic=-13.896870721904069, pvalue=1.055849414662529e-43)"
      ]
     },
     "execution_count": 4,
     "metadata": {},
     "output_type": "execute_result"
    }
   ],
   "source": [
    "#Проведем t-тест на исходных данных для групп 0 и 3\n",
    "# t-критерий Стьюдента\n",
    "stats.ttest_ind(df1[df1.exp_group == 0].ctr,\n",
    "                df1[df1.exp_group == 3].ctr,\n",
    "                equal_var=False)"
   ]
  },
  {
   "cell_type": "code",
   "execution_count": 5,
   "id": "5f0847cf-ca40-43d0-9f6a-79e2df79654d",
   "metadata": {},
   "outputs": [],
   "source": [
    "CTR_control = (df1[df1.exp_group == 0].likes.sum())/(df1[df1.exp_group == 0].views.sum())\n"
   ]
  },
  {
   "cell_type": "code",
   "execution_count": 6,
   "id": "fe50da4b-a59b-4589-908f-a8f0c2052636",
   "metadata": {},
   "outputs": [],
   "source": [
    "pd.options.mode.chained_assignment = None"
   ]
  },
  {
   "cell_type": "code",
   "execution_count": 7,
   "id": "15b74771-a7fc-4dd5-806a-d3f1128bea12",
   "metadata": {},
   "outputs": [],
   "source": [
    "df1['linearized_likes'] = ''\n",
    "for i in range(len(df1)):\n",
    "    df1['linearized_likes'][i] = df1['likes'][i] - CTR_control*df1['views'][i]\n"
   ]
  },
  {
   "cell_type": "code",
   "execution_count": 8,
   "id": "515024f2-7537-4ab0-b3d9-cf2df3697539",
   "metadata": {},
   "outputs": [
    {
     "data": {
      "text/plain": [
       "Ttest_indResult(statistic=-15.214995460903783, pvalue=5.491424947972764e-52)"
      ]
     },
     "execution_count": 8,
     "metadata": {},
     "output_type": "execute_result"
    }
   ],
   "source": [
    "# t-критерий Стьюдента для линеаризованных лайков\n",
    "stats.ttest_ind(df1[df1.exp_group == 0].linearized_likes,\n",
    "                df1[df1.exp_group == 3].linearized_likes,\n",
    "                equal_var=False)"
   ]
  },
  {
   "cell_type": "markdown",
   "id": "bccac35f-4b80-4899-aab1-2f48a33ac71d",
   "metadata": {},
   "source": [
    "### Отличия как были статистически значимыми, так и остались. Значение p-value уменьшилось. ###"
   ]
  },
  {
   "cell_type": "markdown",
   "id": "a0f39b9d-5a45-42b2-b1fa-5df9b1fc673c",
   "metadata": {},
   "source": [
    "## t-тест для групп 1 и 2 ##"
   ]
  },
  {
   "cell_type": "code",
   "execution_count": 9,
   "id": "1aa579f0-ad4e-41d8-af5e-840e75eb280d",
   "metadata": {},
   "outputs": [
    {
     "data": {
      "text/plain": [
       "Ttest_indResult(statistic=-0.7094392041270486, pvalue=0.4780623130874935)"
      ]
     },
     "execution_count": 9,
     "metadata": {},
     "output_type": "execute_result"
    }
   ],
   "source": [
    "#Проведем t-тест на исходных данных для групп 2 и 1\n",
    "# t-критерий Стьюдента\n",
    "stats.ttest_ind(df2[df2.exp_group == 2].ctr,\n",
    "                df2[df2.exp_group == 1].ctr,\n",
    "                equal_var=False)"
   ]
  },
  {
   "cell_type": "code",
   "execution_count": 10,
   "id": "47ae27b8-0df5-4474-9006-06ba9e3bfb01",
   "metadata": {},
   "outputs": [],
   "source": [
    "CTR_control_1 = (df2[df2.exp_group == 1].likes.sum())/(df2[df2.exp_group == 1].views.sum())"
   ]
  },
  {
   "cell_type": "code",
   "execution_count": 11,
   "id": "46050c0e-0de7-4f4d-8b83-ca0e64d7777f",
   "metadata": {},
   "outputs": [],
   "source": [
    "df2['linearized_likes'] = ''\n",
    "for i in range(len(df2)):\n",
    "    df2['linearized_likes'][i] = df2['likes'][i] - CTR_control_1*df2['views'][i]"
   ]
  },
  {
   "cell_type": "code",
   "execution_count": 14,
   "id": "b97cafba-62f7-4686-9839-e6f1e4a37002",
   "metadata": {},
   "outputs": [
    {
     "data": {
      "text/plain": [
       "Ttest_indResult(statistic=-6.122579994775915, pvalue=9.43943218704115e-10)"
      ]
     },
     "execution_count": 14,
     "metadata": {},
     "output_type": "execute_result"
    }
   ],
   "source": [
    "# t-критерий Стьюдента для линеаризованных лайков\n",
    "stats.ttest_ind(df2[df2.exp_group == 2].linearized_likes,\n",
    "                df2[df2.exp_group == 1].linearized_likes,\n",
    "                equal_var=False)"
   ]
  },
  {
   "cell_type": "markdown",
   "id": "7f48a7cf-0bcf-40b1-96e0-39e29e2bfa1b",
   "metadata": {},
   "source": [
    "### Для этих же групп способ с линеаризованными лайками в корни изменил ситуацию. Значение p-value уменьшилось и результаты стали статистичсеки значимыми. ###"
   ]
  },
  {
   "cell_type": "code",
   "execution_count": null,
   "id": "eb06d309-a067-4c03-b85b-71be9d32ae9f",
   "metadata": {},
   "outputs": [],
   "source": []
  }
 ],
 "metadata": {
  "kernelspec": {
   "display_name": "Python 3 (ipykernel)",
   "language": "python",
   "name": "python3"
  },
  "language_info": {
   "codemirror_mode": {
    "name": "ipython",
    "version": 3
   },
   "file_extension": ".py",
   "mimetype": "text/x-python",
   "name": "python",
   "nbconvert_exporter": "python",
   "pygments_lexer": "ipython3",
   "version": "3.8.10"
  }
 },
 "nbformat": 4,
 "nbformat_minor": 5
}
